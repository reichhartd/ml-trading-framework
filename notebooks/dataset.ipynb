{
 "cells": [
  {
   "metadata": {},
   "cell_type": "markdown",
   "source": "# Dataset",
   "id": "ec7d143b9dbfed64"
  },
  {
   "metadata": {},
   "cell_type": "code",
   "outputs": [],
   "execution_count": null,
   "source": [
    "import os\n",
    "from kaggle.api.kaggle_api_extended import KaggleApi\n",
    "from zipfile import ZipFile\n",
    "\n",
    "ZIP_PATH = \"data/zip/\"\n",
    "ZIP_NAME = \"bitcoin-historical-data.zip\"\n",
    "\n",
    "RAW_PATH = \"data/raw/\"\n",
    "RAW_NAME = \"btcusd_1-min_data.csv\"\n",
    "\n",
    "# Validate folders exist\n",
    "os.makedirs(ZIP_PATH, exist_ok=True)\n",
    "os.makedirs(RAW_PATH, exist_ok=True)\n",
    "\n",
    "api = KaggleApi()\n",
    "api.authenticate()\n",
    "api.dataset_download_files(\"mczielinski/bitcoin-historical-data\", path=ZIP_PATH)\n",
    "\n",
    "# Extract zip\n",
    "zip_file = ZipFile(ZIP_PATH + ZIP_NAME)\n",
    "zip_file.extractall(path=RAW_PATH)\n",
    "\n",
    "# Remove zip\n",
    "os.remove(ZIP_PATH + ZIP_NAME)"
   ],
   "id": "d3eb147f3f149dc9"
  }
 ],
 "metadata": {
  "kernelspec": {
   "display_name": "Python 3",
   "language": "python",
   "name": "python3"
  },
  "language_info": {
   "codemirror_mode": {
    "name": "ipython",
    "version": 2
   },
   "file_extension": ".py",
   "mimetype": "text/x-python",
   "name": "python",
   "nbconvert_exporter": "python",
   "pygments_lexer": "ipython2",
   "version": "2.7.6"
  }
 },
 "nbformat": 4,
 "nbformat_minor": 5
}
