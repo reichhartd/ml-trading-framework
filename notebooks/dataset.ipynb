{
 "cells": [
  {
   "metadata": {},
   "cell_type": "markdown",
   "source": [
    "# Dataset\n",
    "\n",
    "CSV file for the bitcoin price for the time period of 01.01.2012 10:01 until 13.04.2025 02:13."
   ],
   "id": "ec7d143b9dbfed64"
  },
  {
   "metadata": {},
   "cell_type": "code",
   "source": [
    "import os\n",
    "from kaggle.api.kaggle_api_extended import KaggleApi\n",
    "from zipfile import ZipFile\n",
    "\n",
    "ZIP_PATH = \"data/zip/\"\n",
    "ZIP_NAME = \"bitcoin-historical-data.zip\"\n",
    "ZIP_FILE = os.path.join(ZIP_PATH, ZIP_NAME)\n",
    "\n",
    "RAW_PATH = \"data/raw/\"\n",
    "RAW_NAME = \"btcusd_1-min_data.csv\"\n",
    "RAW_FILE = os.path.join(RAW_PATH, RAW_NAME)\n",
    "\n",
    "# Validate folders exist\n",
    "os.makedirs(ZIP_PATH, exist_ok=True)\n",
    "os.makedirs(RAW_PATH, exist_ok=True)\n",
    "\n",
    "api = KaggleApi()\n",
    "api.authenticate()\n",
    "api.dataset_download_files(\"mczielinski/bitcoin-historical-data\", path=ZIP_PATH)\n",
    "\n",
    "# Extract zip\n",
    "zip_file = ZipFile(ZIP_FILE)\n",
    "zip_file.extractall(path=RAW_PATH)\n",
    "\n",
    "# Remove zip\n",
    "os.remove(ZIP_FILE)"
   ],
   "id": "d3eb147f3f149dc9",
   "outputs": [],
   "execution_count": null
  },
  {
   "metadata": {},
   "cell_type": "code",
   "source": [
    "# Process dataset\n",
    "\n",
    "import os\n",
    "import pytz\n",
    "import shutil\n",
    "from datetime import datetime\n",
    "import pandas as pd\n",
    "\n",
    "PROCESSED_PATH = \"data/processed/\"\n",
    "PROCESSED_NAME = \"btcusd_1-min_data_processed.csv\"\n",
    "PROCESSED_FILE = os.path.join(PROCESSED_PATH, PROCESSED_NAME)\n",
    "\n",
    "# Validate folders exist\n",
    "os.makedirs(PROCESSED_PATH, exist_ok=True)\n",
    "\n",
    "\n",
    "# Function to convert Unix timestamp to formatted datetime string\n",
    "def convert_timestamp(ts):\n",
    "    dt = datetime.fromtimestamp(float(ts), tz=pytz.UTC)\n",
    "    timezone_str = dt.strftime(\"%z\")\n",
    "    formatted_timezone = f\"{timezone_str[:3]}:{timezone_str[3:]}\"\n",
    "    return dt.strftime(\"%Y-%m-%d %H:%M:%S\") + formatted_timezone\n",
    "\n",
    "\n",
    "# Copy the original file to processed directory\n",
    "shutil.copy2(RAW_FILE, PROCESSED_FILE)\n",
    "\n",
    "# Convert Timestamp column to datetime format\n",
    "df = pd.read_csv(PROCESSED_FILE, low_memory=False)\n",
    "df[\"datetime\"] = df[\"Timestamp\"].apply(convert_timestamp)\n",
    "\n",
    "# Save the processed data\n",
    "df.to_csv(PROCESSED_FILE, index=False)"
   ],
   "id": "4a58b432fefd2266",
   "outputs": [],
   "execution_count": null
  },
  {
   "metadata": {},
   "cell_type": "code",
   "source": [
    "df = pd.read_csv(PROCESSED_FILE)\n",
    "df[\"Timestamp\"] = pd.to_datetime(df[\"Timestamp\"], unit=\"s\", utc=True)\n",
    "df.set_index(\"Timestamp\", inplace=True)\n",
    "df.drop(columns=[\"datetime\"], inplace=True)\n",
    "df.info()"
   ],
   "id": "f89ac87ca6197cf1",
   "outputs": [],
   "execution_count": null
  }
 ],
 "metadata": {
  "kernelspec": {
   "display_name": "Python 3",
   "language": "python",
   "name": "python3"
  },
  "language_info": {
   "codemirror_mode": {
    "name": "ipython",
    "version": 2
   },
   "file_extension": ".py",
   "mimetype": "text/x-python",
   "name": "python",
   "nbconvert_exporter": "python",
   "pygments_lexer": "ipython2",
   "version": "2.7.6"
  }
 },
 "nbformat": 4,
 "nbformat_minor": 5
}
