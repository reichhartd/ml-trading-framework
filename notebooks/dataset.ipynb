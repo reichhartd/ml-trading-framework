{
 "cells": [
  {
   "metadata": {},
   "cell_type": "markdown",
   "source": [
    "# Dataset\n",
    "\n",
    "CSV file for the bitcoin price for the time period of 01.01.2012 10:01 until 23.02.2025 00:00."
   ],
   "id": "ec7d143b9dbfed64"
  },
  {
   "metadata": {},
   "cell_type": "code",
   "source": [
    "import os\n",
    "from kaggle.api.kaggle_api_extended import KaggleApi\n",
    "from zipfile import ZipFile\n",
    "\n",
    "ZIP_PATH = \"data/zip/\"\n",
    "ZIP_NAME = \"bitcoin-historical-data.zip\"\n",
    "\n",
    "RAW_PATH = \"data/raw/\"\n",
    "RAW_NAME = \"btcusd_1-min_data.csv\"\n",
    "\n",
    "# Validate folders exist\n",
    "os.makedirs(ZIP_PATH, exist_ok=True)\n",
    "os.makedirs(RAW_PATH, exist_ok=True)\n",
    "\n",
    "api = KaggleApi()\n",
    "api.authenticate()\n",
    "api.dataset_download_files(\"mczielinski/bitcoin-historical-data\", path=ZIP_PATH)\n",
    "\n",
    "# Extract zip\n",
    "zip_file = ZipFile(ZIP_PATH + ZIP_NAME)\n",
    "zip_file.extractall(path=RAW_PATH)\n",
    "\n",
    "# Remove zip\n",
    "os.remove(ZIP_PATH + ZIP_NAME)"
   ],
   "id": "d3eb147f3f149dc9",
   "outputs": [],
   "execution_count": null
  },
  {
   "metadata": {
    "ExecuteTime": {
     "end_time": "2025-04-13T14:54:23.542536Z",
     "start_time": "2025-04-13T14:53:40.271331Z"
    }
   },
   "cell_type": "code",
   "source": [
    "# Process dataset\n",
    "\n",
    "import pandas as pd\n",
    "import os\n",
    "from datetime import datetime\n",
    "import pytz\n",
    "import shutil\n",
    "\n",
    "PROCESSED_PATH = \"data/processed/\"\n",
    "PROCESSED_NAME = \"btcusd_1-min_data_processed.csv\"\n",
    "\n",
    "# Validate folders exist\n",
    "os.makedirs(PROCESSED_PATH, exist_ok=True)\n",
    "\n",
    "\n",
    "# Function to convert Unix timestamp to formatted datetime string\n",
    "def convert_timestamp(ts):\n",
    "    dt = datetime.fromtimestamp(float(ts), tz=pytz.UTC)\n",
    "    return dt.strftime(\"%Y-%m-%d %H:%M:%S%z\")\n",
    "\n",
    "\n",
    "# Copy the original file to processed directory\n",
    "shutil.copy2(RAW_PATH + RAW_NAME, PROCESSED_PATH + PROCESSED_NAME)\n",
    "\n",
    "# Convert Timestamp column to datetime format\n",
    "df = pd.read_csv(PROCESSED_PATH + PROCESSED_NAME)\n",
    "df[\"datetime\"] = df[\"Timestamp\"].apply(convert_timestamp)\n",
    "\n",
    "# Save the processed data\n",
    "df.to_csv(PROCESSED_PATH + PROCESSED_NAME, index=False)"
   ],
   "id": "4a58b432fefd2266",
   "outputs": [
    {
     "name": "stderr",
     "output_type": "stream",
     "text": [
      "/var/folders/13/dlt4y0gs1cd1f515fyqz0ggm0000gn/T/ipykernel_34753/2885437102.py:26: DtypeWarning: Columns (6) have mixed types. Specify dtype option on import or set low_memory=False.\n",
      "  df = pd.read_csv(PROCESSED_PATH + PROCESSED_NAME)\n"
     ]
    }
   ],
   "execution_count": 7
  }
 ],
 "metadata": {
  "kernelspec": {
   "display_name": "Python 3",
   "language": "python",
   "name": "python3"
  },
  "language_info": {
   "codemirror_mode": {
    "name": "ipython",
    "version": 2
   },
   "file_extension": ".py",
   "mimetype": "text/x-python",
   "name": "python",
   "nbconvert_exporter": "python",
   "pygments_lexer": "ipython2",
   "version": "2.7.6"
  }
 },
 "nbformat": 4,
 "nbformat_minor": 5
}
