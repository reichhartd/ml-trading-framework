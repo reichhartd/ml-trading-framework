{
 "cells": [
  {
   "metadata": {},
   "cell_type": "markdown",
   "source": "# Model Generation",
   "id": "c09564c6783723cc"
  },
  {
   "metadata": {
    "collapsed": true
   },
   "cell_type": "code",
   "outputs": [],
   "execution_count": null,
   "source": [
    "from sklearn.discriminant_analysis import LinearDiscriminantAnalysis\n",
    "from sklearn.neighbors import KNeighborsClassifier\n",
    "from sklearn.tree import DecisionTreeClassifier\n",
    "from sklearn.naive_bayes import GaussianNB\n",
    "from sklearn.ensemble import (\n",
    "    GradientBoostingClassifier,\n",
    "    RandomForestClassifier,\n",
    ")\n",
    "from xgboost import XGBClassifier\n",
    "from catboost import CatBoostClassifier\n",
    "\n",
    "models = []\n",
    "# Lightweight Models\n",
    "models.append((\"LDA\", LinearDiscriminantAnalysis()))  # Unsupervised Model\n",
    "models.append((\"KNN\", KNeighborsClassifier()))  # Unsupervised Model\n",
    "models.append((\"TREE\", DecisionTreeClassifier()))  # Supervised Model\n",
    "models.append((\"NB\", GaussianNB()))  # Unsupervised Model\n",
    "\n",
    "# More Advanced Models\n",
    "models.append((\"GBM\", GradientBoostingClassifier(n_estimators=25)))\n",
    "models.append((\"XGB\", XGBClassifier(n_estimators=25, eval_metric=\"logloss\")))\n",
    "models.append((\"CAT\", CatBoostClassifier(silent=True, n_estimators=25)))\n",
    "models.append((\"RF\", RandomForestClassifier(n_estimators=25)))"
   ],
   "id": "initial_id"
  }
 ],
 "metadata": {
  "kernelspec": {
   "display_name": "Python 3",
   "language": "python",
   "name": "python3"
  },
  "language_info": {
   "codemirror_mode": {
    "name": "ipython",
    "version": 2
   },
   "file_extension": ".py",
   "mimetype": "text/x-python",
   "name": "python",
   "nbconvert_exporter": "python",
   "pygments_lexer": "ipython2",
   "version": "2.7.6"
  }
 },
 "nbformat": 4,
 "nbformat_minor": 5
}
