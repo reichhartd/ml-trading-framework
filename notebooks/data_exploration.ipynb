{
 "cells": [
  {
   "metadata": {},
   "cell_type": "markdown",
   "source": "# Data Exploration",
   "id": "8e3767197dd27ee9"
  },
  {
   "metadata": {
    "collapsed": true
   },
   "cell_type": "code",
   "source": [
    "import os\n",
    "import pandas as pd\n",
    "\n",
    "pd.set_option(\"display.precision\", 2)\n",
    "\n",
    "PROCESSED_PATH = \"data/processed/\"\n",
    "TRAIN_DATA_NAME = \"train_data.csv\"  # 60%\n",
    "VALIDATION_DATA_NAME = \"validation_data.csv\"  # 20%\n",
    "TEST_DATA_NAME = \"test_data.csv\"  # 20%\n",
    "\n",
    "TRAIN_DATA_FILE = os.path.join(PROCESSED_PATH, TRAIN_DATA_NAME)\n",
    "VALIDATION_DATA_FILE = os.path.join(PROCESSED_PATH, VALIDATION_DATA_NAME)\n",
    "TEST_DATA_FILE = os.path.join(PROCESSED_PATH, TEST_DATA_NAME)\n",
    "\n",
    "train_data = pd.read_csv(TRAIN_DATA_FILE)\n",
    "valid_data = pd.read_csv(VALIDATION_DATA_FILE)\n",
    "test_data = pd.read_csv(TEST_DATA_FILE)\n",
    "\n",
    "train_data.set_index(\"Timestamp\", inplace=True)\n",
    "valid_data.set_index(\"Timestamp\", inplace=True)\n",
    "test_data.set_index(\"Timestamp\", inplace=True)"
   ],
   "id": "initial_id",
   "outputs": [],
   "execution_count": null
  },
  {
   "metadata": {},
   "cell_type": "code",
   "source": [
    "print(f\"Training set: {train_data.index.min()} to {train_data.index.max()}\")\n",
    "train_data.describe()"
   ],
   "id": "1120d2ae0d67928a",
   "outputs": [],
   "execution_count": null
  },
  {
   "metadata": {},
   "cell_type": "code",
   "source": [
    "print(f\"Validation set: {valid_data.index.min()} to {valid_data.index.max()}\")\n",
    "valid_data.describe()"
   ],
   "id": "e84f58fc3cdb1154",
   "outputs": [],
   "execution_count": null
  },
  {
   "metadata": {},
   "cell_type": "code",
   "source": [
    "print(f\"Test set: {test_data.index.min()} to {test_data.index.max()}\")\n",
    "test_data.describe()"
   ],
   "id": "6eb859186f109af8",
   "outputs": [],
   "execution_count": null
  }
 ],
 "metadata": {
  "kernelspec": {
   "display_name": "Python 3",
   "language": "python",
   "name": "python3"
  },
  "language_info": {
   "codemirror_mode": {
    "name": "ipython",
    "version": 2
   },
   "file_extension": ".py",
   "mimetype": "text/x-python",
   "name": "python",
   "nbconvert_exporter": "python",
   "pygments_lexer": "ipython2",
   "version": "2.7.6"
  }
 },
 "nbformat": 4,
 "nbformat_minor": 5
}
