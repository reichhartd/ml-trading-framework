{
 "cells": [
  {
   "metadata": {},
   "cell_type": "markdown",
   "source": [
    "# Baseline Features\n",
    "\n",
    "The baseline features include: `Timestamp`, `Open`, `High`, `Low`, `Close`, `Volume`.\n",
    "- Working with the full index dataset (7.0M entries) can lead to excessive training times.\n",
    "- We'll restrict our dataset to the most recent `100,000` data points, which are likely more relevant for future predictions.\n",
    "- Note that a `training period` of only two months may not capture all relevant trends, despite containing substantial data."
   ],
   "id": "385d23aed20b454f"
  },
  {
   "metadata": {
    "collapsed": true
   },
   "cell_type": "code",
   "source": [
    "import os\n",
    "import pandas as pd\n",
    "\n",
    "PROCESSED_PATH = \"data/processed/\"\n",
    "PROCESSED_NAME = \"btcusd_1-min_data_processed.csv\"\n",
    "PROCESSED_FILE = os.path.join(PROCESSED_PATH, PROCESSED_NAME)\n",
    "\n",
    "df = pd.read_csv(PROCESSED_FILE)\n",
    "df[\"Timestamp\"] = pd.to_datetime(df[\"Timestamp\"], unit=\"s\", utc=True)\n",
    "df.set_index(\"Timestamp\", inplace=True)\n",
    "df.drop(columns=[\"datetime\"], inplace=True)\n",
    "df.info()"
   ],
   "id": "initial_id",
   "outputs": [],
   "execution_count": null
  },
  {
   "metadata": {},
   "cell_type": "code",
   "source": [
    "# Chronological split with 60/20/20\n",
    "train_size = int(0.6 * len(df))\n",
    "valid_size = int(0.2 * len(df))\n",
    "\n",
    "# Split in chronological order\n",
    "train_data = df.iloc[:train_size]\n",
    "valid_data = df.iloc[train_size : train_size + valid_size]\n",
    "test_data = df.iloc[train_size + valid_size :]\n",
    "\n",
    "print(f\"Training set: {len(train_data)} entries\")\n",
    "print(f\"Validation set: {len(valid_data)} entries\")\n",
    "print(f\"Test set: {len(test_data)} entries\")\n",
    "\n",
    "# Check time ranges\n",
    "print(f\"Training set: {train_data.index.min()} to {train_data.index.max()}\")\n",
    "print(f\"Validation set: {valid_data.index.min()} to {valid_data.index.max()}\")\n",
    "print(f\"Test set: {test_data.index.min()} to {test_data.index.max()}\")\n",
    "\n",
    "# Saving the split data records\n",
    "train_data.to_csv(os.path.join(PROCESSED_PATH, \"train_data.csv\"))\n",
    "valid_data.to_csv(os.path.join(PROCESSED_PATH, \"validation_data.csv\"))\n",
    "test_data.to_csv(os.path.join(PROCESSED_PATH, \"test_data.csv\"))"
   ],
   "id": "4da7b5fbd668148a",
   "outputs": [],
   "execution_count": null
  }
 ],
 "metadata": {
  "kernelspec": {
   "display_name": "Python 3",
   "language": "python",
   "name": "python3"
  },
  "language_info": {
   "codemirror_mode": {
    "name": "ipython",
    "version": 2
   },
   "file_extension": ".py",
   "mimetype": "text/x-python",
   "name": "python",
   "nbconvert_exporter": "python",
   "pygments_lexer": "ipython2",
   "version": "2.7.6"
  }
 },
 "nbformat": 4,
 "nbformat_minor": 5
}
