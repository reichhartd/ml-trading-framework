{
 "cells": [
  {
   "metadata": {},
   "cell_type": "markdown",
   "source": [
    "# Baseline Features\n",
    "\n",
    "The baseline features include: `Timestamp`, `Open`, `High`, `Low`, `Close`, `Volume`."
   ],
   "id": "385d23aed20b454f"
  },
  {
   "metadata": {
    "collapsed": true,
    "jupyter": {
     "is_executing": true
    },
    "ExecuteTime": {
     "start_time": "2025-04-13T15:59:16.228193Z"
    }
   },
   "cell_type": "code",
   "source": [
    "import os\n",
    "import pandas as pd\n",
    "\n",
    "PROCESSED_PATH = \"data/processed/\"\n",
    "PROCESSED_NAME = \"btcusd_1-min_data_processed.csv\"\n",
    "PROCESSED_FILE = os.path.join(PROCESSED_PATH, PROCESSED_NAME)\n",
    "\n",
    "df = pd.read_csv(PROCESSED_FILE)\n",
    "df[\"Timestamp\"] = pd.to_datetime(df[\"Timestamp\"], unit=\"s\", utc=True)\n",
    "df.set_index(\"Timestamp\", inplace=True)\n",
    "df.drop(columns=[\"datetime\"], inplace=True)\n",
    "df.info()"
   ],
   "id": "initial_id",
   "outputs": [],
   "execution_count": null
  }
 ],
 "metadata": {
  "kernelspec": {
   "display_name": "Python 3",
   "language": "python",
   "name": "python3"
  },
  "language_info": {
   "codemirror_mode": {
    "name": "ipython",
    "version": 2
   },
   "file_extension": ".py",
   "mimetype": "text/x-python",
   "name": "python",
   "nbconvert_exporter": "python",
   "pygments_lexer": "ipython2",
   "version": "2.7.6"
  }
 },
 "nbformat": 4,
 "nbformat_minor": 5
}
