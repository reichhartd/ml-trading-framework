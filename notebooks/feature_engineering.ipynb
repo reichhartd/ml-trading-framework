{
 "cells": [
  {
   "metadata": {},
   "cell_type": "markdown",
   "source": [
    "# Feature Engineering\n",
    "\n",
    "\n",
    "\n",
    "- `Moving Average`: This indicator reveals price trends by smoothing out market fluctuations, effectively filtering out short-term noise from price data.\n",
    "- `Momentum (MOM)`: This metric quantifies the acceleration of a security's price or volume, essentially measuring how rapidly prices are changing in a given direction.\n",
    "- `Rate Of Change (ROC)`: This momentum oscillator calculates the percentage difference between current price and the price n periods ago. Assets displaying **elevated ROC values** typically signal overbought conditions, while **depressed ROC readings** often indicate oversold market states.\n",
    "- `Relative Strength Index (RSI)`: A momentum measurement that evaluates the speed and magnitude of recent price movements to identify potential overbought or oversold conditions. It operates on a scale of 0-100, with **readings above 70 suggesting an overbought asset** and **readings below 30 indicating an undervalued, oversold condition**.\n",
    "- `Stochastic Oscillator (%K and %D)`: This momentum tool compares a security's closing price to its price range over a specific timeframe. The %K line represents the faster signal, while %D serves as the slower, more smoothed indicator."
   ],
   "id": "62ddd253d4e1597b"
  },
  {
   "metadata": {
    "collapsed": true,
    "ExecuteTime": {
     "end_time": "2025-04-19T13:30:57.475403Z",
     "start_time": "2025-04-19T13:30:54.604357Z"
    }
   },
   "cell_type": "code",
   "source": [
    "import os\n",
    "import pandas as pd\n",
    "\n",
    "pd.set_option(\"display.precision\", 2)\n",
    "\n",
    "PROCESSED_PATH = \"data/processed/\"\n",
    "TRAIN_DATA_NAME = \"train_data.csv\"  # 60%\n",
    "VALIDATION_DATA_NAME = \"validation_data.csv\"  # 20%\n",
    "TEST_DATA_NAME = \"test_data.csv\"  # 20%\n",
    "\n",
    "TRAIN_DATA_FILE = os.path.join(PROCESSED_PATH, TRAIN_DATA_NAME)\n",
    "VALIDATION_DATA_FILE = os.path.join(PROCESSED_PATH, VALIDATION_DATA_NAME)\n",
    "\n",
    "train_data = pd.read_csv(TRAIN_DATA_FILE)\n",
    "valid_data = pd.read_csv(VALIDATION_DATA_FILE)\n",
    "\n",
    "train_data.set_index(\"Timestamp\", inplace=True)\n",
    "valid_data.set_index(\"Timestamp\", inplace=True)"
   ],
   "id": "initial_id",
   "outputs": [],
   "execution_count": 1
  },
  {
   "metadata": {},
   "cell_type": "code",
   "outputs": [],
   "execution_count": null,
   "source": "",
   "id": "e0b7268b2ded6c32"
  }
 ],
 "metadata": {
  "kernelspec": {
   "display_name": "Python 3",
   "language": "python",
   "name": "python3"
  },
  "language_info": {
   "codemirror_mode": {
    "name": "ipython",
    "version": 2
   },
   "file_extension": ".py",
   "mimetype": "text/x-python",
   "name": "python",
   "nbconvert_exporter": "python",
   "pygments_lexer": "ipython2",
   "version": "2.7.6"
  }
 },
 "nbformat": 4,
 "nbformat_minor": 5
}
